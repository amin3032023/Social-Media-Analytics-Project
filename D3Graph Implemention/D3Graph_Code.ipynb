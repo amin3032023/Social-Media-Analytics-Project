{
  "nbformat": 4,
  "nbformat_minor": 0,
  "metadata": {
    "colab": {
      "provenance": []
    },
    "kernelspec": {
      "name": "python3",
      "display_name": "Python 3"
    },
    "language_info": {
      "name": "python"
    }
  },
  "cells": [
    {
      "cell_type": "code",
      "source": [
        "pip install d3graph\n"
      ],
      "metadata": {
        "colab": {
          "base_uri": "https://localhost:8080/"
        },
        "id": "7tQQxDE-H5fK",
        "outputId": "1f7747cb-facd-40eb-e070-03548e24d12d"
      },
      "execution_count": null,
      "outputs": [
        {
          "output_type": "stream",
          "name": "stdout",
          "text": [
            "Collecting d3graph\n",
            "  Downloading d3graph-2.5.0-py3-none-any.whl.metadata (6.5 kB)\n",
            "Requirement already satisfied: pandas in /usr/local/lib/python3.11/dist-packages (from d3graph) (2.2.2)\n",
            "Requirement already satisfied: numpy in /usr/local/lib/python3.11/dist-packages (from d3graph) (1.26.4)\n",
            "Collecting colourmap (from d3graph)\n",
            "  Downloading colourmap-1.1.20-py3-none-any.whl.metadata (5.5 kB)\n",
            "Requirement already satisfied: networkx>2 in /usr/local/lib/python3.11/dist-packages (from d3graph) (3.4.2)\n",
            "Collecting ismember (from d3graph)\n",
            "  Downloading ismember-1.0.5-py3-none-any.whl.metadata (3.4 kB)\n",
            "Requirement already satisfied: jinja2 in /usr/local/lib/python3.11/dist-packages (from d3graph) (3.1.5)\n",
            "Requirement already satisfied: packaging in /usr/local/lib/python3.11/dist-packages (from d3graph) (24.2)\n",
            "Collecting markupsafe==2.0.1 (from d3graph)\n",
            "  Downloading MarkupSafe-2.0.1.tar.gz (18 kB)\n",
            "  Preparing metadata (setup.py) ... \u001b[?25l\u001b[?25hdone\n",
            "Requirement already satisfied: python-louvain in /usr/local/lib/python3.11/dist-packages (from d3graph) (0.16)\n",
            "Collecting datazets (from d3graph)\n",
            "  Downloading datazets-1.1.0-py3-none-any.whl.metadata (11 kB)\n",
            "Requirement already satisfied: matplotlib in /usr/local/lib/python3.11/dist-packages (from colourmap->d3graph) (3.10.0)\n",
            "Requirement already satisfied: requests in /usr/local/lib/python3.11/dist-packages (from datazets->d3graph) (2.32.3)\n",
            "Requirement already satisfied: python-dateutil>=2.8.2 in /usr/local/lib/python3.11/dist-packages (from pandas->d3graph) (2.8.2)\n",
            "Requirement already satisfied: pytz>=2020.1 in /usr/local/lib/python3.11/dist-packages (from pandas->d3graph) (2025.1)\n",
            "Requirement already satisfied: tzdata>=2022.7 in /usr/local/lib/python3.11/dist-packages (from pandas->d3graph) (2025.1)\n",
            "Requirement already satisfied: six>=1.5 in /usr/local/lib/python3.11/dist-packages (from python-dateutil>=2.8.2->pandas->d3graph) (1.17.0)\n",
            "Requirement already satisfied: contourpy>=1.0.1 in /usr/local/lib/python3.11/dist-packages (from matplotlib->colourmap->d3graph) (1.3.1)\n",
            "Requirement already satisfied: cycler>=0.10 in /usr/local/lib/python3.11/dist-packages (from matplotlib->colourmap->d3graph) (0.12.1)\n",
            "Requirement already satisfied: fonttools>=4.22.0 in /usr/local/lib/python3.11/dist-packages (from matplotlib->colourmap->d3graph) (4.56.0)\n",
            "Requirement already satisfied: kiwisolver>=1.3.1 in /usr/local/lib/python3.11/dist-packages (from matplotlib->colourmap->d3graph) (1.4.8)\n",
            "Requirement already satisfied: pillow>=8 in /usr/local/lib/python3.11/dist-packages (from matplotlib->colourmap->d3graph) (11.1.0)\n",
            "Requirement already satisfied: pyparsing>=2.3.1 in /usr/local/lib/python3.11/dist-packages (from matplotlib->colourmap->d3graph) (3.2.1)\n",
            "Requirement already satisfied: charset-normalizer<4,>=2 in /usr/local/lib/python3.11/dist-packages (from requests->datazets->d3graph) (3.4.1)\n",
            "Requirement already satisfied: idna<4,>=2.5 in /usr/local/lib/python3.11/dist-packages (from requests->datazets->d3graph) (3.10)\n",
            "Requirement already satisfied: urllib3<3,>=1.21.1 in /usr/local/lib/python3.11/dist-packages (from requests->datazets->d3graph) (2.3.0)\n",
            "Requirement already satisfied: certifi>=2017.4.17 in /usr/local/lib/python3.11/dist-packages (from requests->datazets->d3graph) (2025.1.31)\n",
            "Downloading d3graph-2.5.0-py3-none-any.whl (126 kB)\n",
            "\u001b[2K   \u001b[90m━━━━━━━━━━━━━━━━━━━━━━━━━━━━━━━━━━━━━━━━\u001b[0m \u001b[32m126.4/126.4 kB\u001b[0m \u001b[31m6.1 MB/s\u001b[0m eta \u001b[36m0:00:00\u001b[0m\n",
            "\u001b[?25hDownloading colourmap-1.1.20-py3-none-any.whl (10 kB)\n",
            "Downloading datazets-1.1.0-py3-none-any.whl (14 kB)\n",
            "Downloading ismember-1.0.5-py3-none-any.whl (7.7 kB)\n",
            "Building wheels for collected packages: markupsafe\n",
            "  Building wheel for markupsafe (setup.py) ... \u001b[?25l\u001b[?25hdone\n",
            "  Created wheel for markupsafe: filename=MarkupSafe-2.0.1-cp311-cp311-linux_x86_64.whl size=27993 sha256=e4d939d4527af0ada24ae4e40e9d8b8d65b8ff5aa687d7fe24056861cf669636\n",
            "  Stored in directory: /root/.cache/pip/wheels/ea/18/79/6266ea508b8164a77b95aa19534c77eb805f2878612c37efca\n",
            "Successfully built markupsafe\n",
            "Installing collected packages: markupsafe, ismember, datazets, colourmap, d3graph\n",
            "  Attempting uninstall: markupsafe\n",
            "    Found existing installation: MarkupSafe 3.0.2\n",
            "    Uninstalling MarkupSafe-3.0.2:\n",
            "      Successfully uninstalled MarkupSafe-3.0.2\n",
            "\u001b[31mERROR: pip's dependency resolver does not currently take into account all the packages that are installed. This behaviour is the source of the following dependency conflicts.\n",
            "torch 2.5.1+cu124 requires nvidia-cublas-cu12==12.4.5.8; platform_system == \"Linux\" and platform_machine == \"x86_64\", but you have nvidia-cublas-cu12 12.5.3.2 which is incompatible.\n",
            "torch 2.5.1+cu124 requires nvidia-cuda-cupti-cu12==12.4.127; platform_system == \"Linux\" and platform_machine == \"x86_64\", but you have nvidia-cuda-cupti-cu12 12.5.82 which is incompatible.\n",
            "torch 2.5.1+cu124 requires nvidia-cuda-nvrtc-cu12==12.4.127; platform_system == \"Linux\" and platform_machine == \"x86_64\", but you have nvidia-cuda-nvrtc-cu12 12.5.82 which is incompatible.\n",
            "torch 2.5.1+cu124 requires nvidia-cuda-runtime-cu12==12.4.127; platform_system == \"Linux\" and platform_machine == \"x86_64\", but you have nvidia-cuda-runtime-cu12 12.5.82 which is incompatible.\n",
            "torch 2.5.1+cu124 requires nvidia-cudnn-cu12==9.1.0.70; platform_system == \"Linux\" and platform_machine == \"x86_64\", but you have nvidia-cudnn-cu12 9.3.0.75 which is incompatible.\n",
            "torch 2.5.1+cu124 requires nvidia-cufft-cu12==11.2.1.3; platform_system == \"Linux\" and platform_machine == \"x86_64\", but you have nvidia-cufft-cu12 11.2.3.61 which is incompatible.\n",
            "torch 2.5.1+cu124 requires nvidia-curand-cu12==10.3.5.147; platform_system == \"Linux\" and platform_machine == \"x86_64\", but you have nvidia-curand-cu12 10.3.6.82 which is incompatible.\n",
            "torch 2.5.1+cu124 requires nvidia-cusolver-cu12==11.6.1.9; platform_system == \"Linux\" and platform_machine == \"x86_64\", but you have nvidia-cusolver-cu12 11.6.3.83 which is incompatible.\n",
            "torch 2.5.1+cu124 requires nvidia-cusparse-cu12==12.3.1.170; platform_system == \"Linux\" and platform_machine == \"x86_64\", but you have nvidia-cusparse-cu12 12.5.1.3 which is incompatible.\n",
            "torch 2.5.1+cu124 requires nvidia-nvjitlink-cu12==12.4.127; platform_system == \"Linux\" and platform_machine == \"x86_64\", but you have nvidia-nvjitlink-cu12 12.5.82 which is incompatible.\n",
            "werkzeug 3.1.3 requires MarkupSafe>=2.1.1, but you have markupsafe 2.0.1 which is incompatible.\u001b[0m\u001b[31m\n",
            "\u001b[0mSuccessfully installed colourmap-1.1.20 d3graph-2.5.0 datazets-1.1.0 ismember-1.0.5 markupsafe-2.0.1\n"
          ]
        }
      ]
    },
    {
      "cell_type": "code",
      "source": [],
      "metadata": {
        "id": "dY_65j7TsL9G"
      },
      "execution_count": null,
      "outputs": []
    },
    {
      "cell_type": "code",
      "source": [
        "# Import necessary libraries\n",
        "from d3graph import d3graph\n",
        "import os\n",
        "from google.colab import files\n",
        "\n",
        "# Initialize\n",
        "d3 = d3graph()\n",
        "\n",
        "# Load example\n",
        "adjmat = d3.import_example('bigbang')\n",
        "\n",
        "# Process adjmat\n",
        "d3.graph(adjmat)\n",
        "\n",
        "# Define the output file name\n",
        "output_path = \"/content/bigbang_graph.html\"\n",
        "\n",
        "# Show and save the graph to the defined path\n",
        "d3.show(filepath=output_path)\n",
        "\n",
        "# Optional: Download the file to your local system\n",
        "files.download(output_path)\n",
        "\n",
        "print(f\"Graph saved and available for download at: {output_path}\")\n"
      ],
      "metadata": {
        "colab": {
          "base_uri": "https://localhost:8080/",
          "height": 260
        },
        "id": "Xei9rZSeTiLs",
        "outputId": "9568cf83-4c78-4dcb-d581-1f1e146bbbf2"
      },
      "execution_count": null,
      "outputs": [
        {
          "output_type": "stream",
          "name": "stderr",
          "text": [
            "[datazets] >INFO> Import dataset [bigbang]\n",
            "[d3graph] INFO> Import dataset [bigbang]\n",
            "[d3graph] INFO> Converting source-target into adjacency matrix..\n",
            "[d3graph] INFO> Making the matrix symmetric..\n",
            "[d3graph] INFO> Set directed=True to see the markers!\n",
            "[d3graph] INFO> Keep only edges with weight>0\n",
            "[d3graph] INFO> Converting source-target into adjacency matrix..\n",
            "[d3graph] INFO> Making the matrix symmetric..\n",
            "[d3graph] INFO> Converting adjacency matrix into source-target..\n",
            "[d3graph] INFO> Number of unique nodes: 7\n",
            "[d3graph] INFO> Slider range is set to [1, 10]\n",
            "[d3graph] INFO> Write to path: [/content/bigbang_graph.html]\n",
            "[d3graph] INFO> File already exists and will be overwritten: [/content/bigbang_graph.html]\n"
          ]
        },
        {
          "output_type": "display_data",
          "data": {
            "text/plain": [
              "<IPython.core.display.Javascript object>"
            ],
            "application/javascript": [
              "\n",
              "    async function download(id, filename, size) {\n",
              "      if (!google.colab.kernel.accessAllowed) {\n",
              "        return;\n",
              "      }\n",
              "      const div = document.createElement('div');\n",
              "      const label = document.createElement('label');\n",
              "      label.textContent = `Downloading \"${filename}\": `;\n",
              "      div.appendChild(label);\n",
              "      const progress = document.createElement('progress');\n",
              "      progress.max = size;\n",
              "      div.appendChild(progress);\n",
              "      document.body.appendChild(div);\n",
              "\n",
              "      const buffers = [];\n",
              "      let downloaded = 0;\n",
              "\n",
              "      const channel = await google.colab.kernel.comms.open(id);\n",
              "      // Send a message to notify the kernel that we're ready.\n",
              "      channel.send({})\n",
              "\n",
              "      for await (const message of channel.messages) {\n",
              "        // Send a message to notify the kernel that we're ready.\n",
              "        channel.send({})\n",
              "        if (message.buffers) {\n",
              "          for (const buffer of message.buffers) {\n",
              "            buffers.push(buffer);\n",
              "            downloaded += buffer.byteLength;\n",
              "            progress.value = downloaded;\n",
              "          }\n",
              "        }\n",
              "      }\n",
              "      const blob = new Blob(buffers, {type: 'application/binary'});\n",
              "      const a = document.createElement('a');\n",
              "      a.href = window.URL.createObjectURL(blob);\n",
              "      a.download = filename;\n",
              "      div.appendChild(a);\n",
              "      a.click();\n",
              "      div.remove();\n",
              "    }\n",
              "  "
            ]
          },
          "metadata": {}
        },
        {
          "output_type": "display_data",
          "data": {
            "text/plain": [
              "<IPython.core.display.Javascript object>"
            ],
            "application/javascript": [
              "download(\"download_506b5ea5-aa9e-454d-a4e2-278773fc72d7\", \"bigbang_graph.html\", 356302)"
            ]
          },
          "metadata": {}
        },
        {
          "output_type": "stream",
          "name": "stdout",
          "text": [
            "Graph saved and available for download at: /content/bigbang_graph.html\n"
          ]
        }
      ]
    },
    {
      "cell_type": "markdown",
      "source": [
        "Amin Test"
      ],
      "metadata": {
        "id": "w3Z534dkWfx4"
      }
    },
    {
      "cell_type": "code",
      "source": [
        "\n",
        "from d3graph import d3graph\n",
        "import numpy as np\n",
        "from google.colab import files\n",
        "\n",
        "# symmetric adjacency matrix with binary connections\n",
        "adj_matrix = np.array([\n",
        "    [0, 1, 0, 0, 1],\n",
        "    [1, 0, 1, 0, 1],\n",
        "    [0, 1, 0, 1, 0],\n",
        "    [0, 0, 1, 0, 1],\n",
        "    [1, 1, 0, 1, 0]\n",
        "])\n",
        "\n",
        "# Initialize the d3graph object\n",
        "d3 = d3graph()\n",
        "\n",
        "# Generate the interactive graph\n",
        "# Here, we just use the adjacency matrix as is\n",
        "d3.graph(adj_matrix)\n",
        "\n",
        "# Define the output file name\n",
        "output_path = \"/content/simple_network_graph.html\"\n",
        "\n",
        "# Show and save the graph to the defined path\n",
        "d3.show(filepath=output_path)\n",
        "\n",
        "# Optional: Download the file to your local system\n",
        "files.download(output_path)\n",
        "\n",
        "print(f\"Graph saved and available for download at: {output_path}\")\n"
      ],
      "metadata": {
        "colab": {
          "base_uri": "https://localhost:8080/",
          "height": 225
        },
        "id": "Ybu43cptWjcz",
        "outputId": "3fe97d90-c73a-49f2-e245-629d17b74a84"
      },
      "execution_count": null,
      "outputs": [
        {
          "output_type": "stream",
          "name": "stderr",
          "text": [
            "03-03-25 07:11:58 [numexpr.utils      ]> INFO    > NumExpr defaulting to 2 threads.\n",
            "[d3graph] INFO> Converting numpy matrix into Pandas DataFrame\n",
            "[d3graph] INFO> Set directed=True to see the markers!\n",
            "[d3graph] INFO> Keep only edges with weight>0\n",
            "[d3graph] INFO> Converting source-target into adjacency matrix..\n",
            "[d3graph] INFO> Making the matrix symmetric..\n",
            "[d3graph] INFO> Converting adjacency matrix into source-target..\n",
            "[d3graph] INFO> Number of unique nodes: 5\n",
            "[d3graph] INFO> Slider range is set to [0, 1]\n",
            "[d3graph] INFO> Write to path: [/content/simple_network_graph.html]\n",
            "[d3graph] INFO> File already exists and will be overwritten: [/content/simple_network_graph.html]\n"
          ]
        },
        {
          "output_type": "display_data",
          "data": {
            "text/plain": [
              "<IPython.core.display.Javascript object>"
            ],
            "application/javascript": [
              "\n",
              "    async function download(id, filename, size) {\n",
              "      if (!google.colab.kernel.accessAllowed) {\n",
              "        return;\n",
              "      }\n",
              "      const div = document.createElement('div');\n",
              "      const label = document.createElement('label');\n",
              "      label.textContent = `Downloading \"${filename}\": `;\n",
              "      div.appendChild(label);\n",
              "      const progress = document.createElement('progress');\n",
              "      progress.max = size;\n",
              "      div.appendChild(progress);\n",
              "      document.body.appendChild(div);\n",
              "\n",
              "      const buffers = [];\n",
              "      let downloaded = 0;\n",
              "\n",
              "      const channel = await google.colab.kernel.comms.open(id);\n",
              "      // Send a message to notify the kernel that we're ready.\n",
              "      channel.send({})\n",
              "\n",
              "      for await (const message of channel.messages) {\n",
              "        // Send a message to notify the kernel that we're ready.\n",
              "        channel.send({})\n",
              "        if (message.buffers) {\n",
              "          for (const buffer of message.buffers) {\n",
              "            buffers.push(buffer);\n",
              "            downloaded += buffer.byteLength;\n",
              "            progress.value = downloaded;\n",
              "          }\n",
              "        }\n",
              "      }\n",
              "      const blob = new Blob(buffers, {type: 'application/binary'});\n",
              "      const a = document.createElement('a');\n",
              "      a.href = window.URL.createObjectURL(blob);\n",
              "      a.download = filename;\n",
              "      div.appendChild(a);\n",
              "      a.click();\n",
              "      div.remove();\n",
              "    }\n",
              "  "
            ]
          },
          "metadata": {}
        },
        {
          "output_type": "display_data",
          "data": {
            "text/plain": [
              "<IPython.core.display.Javascript object>"
            ],
            "application/javascript": [
              "download(\"download_43fa7f6f-2698-4a94-9839-8c61cb784542\", \"simple_network_graph.html\", 356426)"
            ]
          },
          "metadata": {}
        },
        {
          "output_type": "stream",
          "name": "stdout",
          "text": [
            "Graph saved and available for download at: /content/simple_network_graph.html\n"
          ]
        }
      ]
    },
    {
      "cell_type": "code",
      "source": [
        "from d3graph import d3graph\n",
        "from google.colab import files\n",
        "\n",
        "# Initialize\n",
        "d3 = d3graph()\n",
        "# Load karate example\n",
        "adjmat, df = d3.import_example('karate')\n",
        "\n",
        "label = df['label'].values\n",
        "node_size = df['degree'].values\n",
        "\n",
        "# Set up and visualize the graph with different properties\n",
        "d3.graph(adjmat)\n",
        "d3.set_node_properties(color=label, label=label)\n",
        "d3.show(filepath=\"/content/karate_graph_1.html\")\n",
        "files.download(\"/content/karate_graph_1.html\")  # Optional download\n",
        "\n",
        "d3.set_node_properties(label=label, color=label, cmap='Set1')\n",
        "d3.show(filepath=\"/content/karate_graph_2.html\")\n",
        "files.download(\"/content/karate_graph_2.html\")  # Optional download\n",
        "\n",
        "d3.set_node_properties(size=node_size)\n",
        "d3.show(filepath=\"/content/karate_graph_3.html\")\n",
        "files.download(\"/content/karate_graph_3.html\")  # Optional download\n",
        "\n",
        "d3.set_node_properties(color=label, size=node_size, label=label)\n",
        "d3.show(filepath=\"/content/karate_graph_4.html\")\n",
        "files.download(\"/content/karate_graph_4.html\")  # Optional download\n",
        "\n",
        "d3.set_edge_properties(edge_distance=100)\n",
        "d3.set_node_properties(color=node_size, size=node_size, label=label)\n",
        "d3.show(filepath=\"/content/karate_graph_5.html\")\n",
        "files.download(\"/content/karate_graph_5.html\")  # Optional download\n",
        "\n",
        "# Reinitialize with specific parameters\n",
        "d3 = d3graph(charge=1000)\n",
        "d3.graph(adjmat)\n",
        "d3.set_node_properties(color=node_size, size=node_size, label=label)\n",
        "d3.show(filepath=\"/content/karate_graph_6.html\")\n",
        "files.download(\"/content/karate_graph_6.html\")  # Optional download\n",
        "\n",
        "d3 = d3graph(collision=1, charge=250)\n",
        "d3.graph(adjmat)\n",
        "d3.set_node_properties(color=label, size=node_size, edge_size=node_size, cmap='Set1', label=label)\n",
        "d3.show(filepath=\"/content/karate_graph_7.html\")\n",
        "files.download(\"/content/karate_graph_7.html\")  # Optional download\n",
        "\n",
        "d3 = d3graph(collision=1, charge=250)\n",
        "d3.graph(adjmat)\n",
        "d3.set_node_properties(color=label, size=node_size, edge_size=node_size, edge_color='#00FFFF', cmap='Set1', label=label)\n",
        "d3.show(filepath=\"/content/karate_graph_8.html\")\n",
        "files.download(\"/content/karate_graph_8.html\")  # Optional download\n"
      ],
      "metadata": {
        "colab": {
          "base_uri": "https://localhost:8080/",
          "height": 1000
        },
        "id": "ccJY-XQaenXK",
        "outputId": "15732c2e-74ce-49fc-c62d-5546c6a1e4f9"
      },
      "execution_count": null,
      "outputs": [
        {
          "output_type": "stream",
          "name": "stderr",
          "text": [
            "[d3graph] INFO> Set directed=True to see the markers!\n",
            "[d3graph] INFO> Keep only edges with weight>0\n",
            "[d3graph] INFO> Converting source-target into adjacency matrix..\n",
            "[d3graph] INFO> Making the matrix symmetric..\n",
            "[d3graph] INFO> Converting adjacency matrix into source-target..\n",
            "[d3graph] INFO> Number of unique nodes: 34\n",
            "[d3graph] INFO> Add transparency to RGB colors (last column)\n",
            "[d3graph] INFO> Number of unique nodes: 34\n",
            "[d3graph] INFO> Slider range is set to [0, 7]\n",
            "[d3graph] INFO> Write to path: [/content/karate_graph_1.html]\n",
            "[d3graph] INFO> File already exists and will be overwritten: [/content/karate_graph_1.html]\n"
          ]
        },
        {
          "output_type": "display_data",
          "data": {
            "text/plain": [
              "<IPython.core.display.Javascript object>"
            ],
            "application/javascript": [
              "\n",
              "    async function download(id, filename, size) {\n",
              "      if (!google.colab.kernel.accessAllowed) {\n",
              "        return;\n",
              "      }\n",
              "      const div = document.createElement('div');\n",
              "      const label = document.createElement('label');\n",
              "      label.textContent = `Downloading \"${filename}\": `;\n",
              "      div.appendChild(label);\n",
              "      const progress = document.createElement('progress');\n",
              "      progress.max = size;\n",
              "      div.appendChild(progress);\n",
              "      document.body.appendChild(div);\n",
              "\n",
              "      const buffers = [];\n",
              "      let downloaded = 0;\n",
              "\n",
              "      const channel = await google.colab.kernel.comms.open(id);\n",
              "      // Send a message to notify the kernel that we're ready.\n",
              "      channel.send({})\n",
              "\n",
              "      for await (const message of channel.messages) {\n",
              "        // Send a message to notify the kernel that we're ready.\n",
              "        channel.send({})\n",
              "        if (message.buffers) {\n",
              "          for (const buffer of message.buffers) {\n",
              "            buffers.push(buffer);\n",
              "            downloaded += buffer.byteLength;\n",
              "            progress.value = downloaded;\n",
              "          }\n",
              "        }\n",
              "      }\n",
              "      const blob = new Blob(buffers, {type: 'application/binary'});\n",
              "      const a = document.createElement('a');\n",
              "      a.href = window.URL.createObjectURL(blob);\n",
              "      a.download = filename;\n",
              "      div.appendChild(a);\n",
              "      a.click();\n",
              "      div.remove();\n",
              "    }\n",
              "  "
            ]
          },
          "metadata": {}
        },
        {
          "output_type": "display_data",
          "data": {
            "text/plain": [
              "<IPython.core.display.Javascript object>"
            ],
            "application/javascript": [
              "download(\"download_4192cf38-8446-46ac-903c-802b755c9770\", \"karate_graph_1.html\", 406334)"
            ]
          },
          "metadata": {}
        },
        {
          "output_type": "stream",
          "name": "stderr",
          "text": [
            "[d3graph] INFO> Add transparency to RGB colors (last column)\n",
            "[d3graph] INFO> Number of unique nodes: 34\n",
            "[d3graph] INFO> Slider range is set to [0, 7]\n",
            "[d3graph] INFO> Write to path: [/content/karate_graph_2.html]\n",
            "[d3graph] INFO> File already exists and will be overwritten: [/content/karate_graph_2.html]\n"
          ]
        },
        {
          "output_type": "display_data",
          "data": {
            "text/plain": [
              "<IPython.core.display.Javascript object>"
            ],
            "application/javascript": [
              "\n",
              "    async function download(id, filename, size) {\n",
              "      if (!google.colab.kernel.accessAllowed) {\n",
              "        return;\n",
              "      }\n",
              "      const div = document.createElement('div');\n",
              "      const label = document.createElement('label');\n",
              "      label.textContent = `Downloading \"${filename}\": `;\n",
              "      div.appendChild(label);\n",
              "      const progress = document.createElement('progress');\n",
              "      progress.max = size;\n",
              "      div.appendChild(progress);\n",
              "      document.body.appendChild(div);\n",
              "\n",
              "      const buffers = [];\n",
              "      let downloaded = 0;\n",
              "\n",
              "      const channel = await google.colab.kernel.comms.open(id);\n",
              "      // Send a message to notify the kernel that we're ready.\n",
              "      channel.send({})\n",
              "\n",
              "      for await (const message of channel.messages) {\n",
              "        // Send a message to notify the kernel that we're ready.\n",
              "        channel.send({})\n",
              "        if (message.buffers) {\n",
              "          for (const buffer of message.buffers) {\n",
              "            buffers.push(buffer);\n",
              "            downloaded += buffer.byteLength;\n",
              "            progress.value = downloaded;\n",
              "          }\n",
              "        }\n",
              "      }\n",
              "      const blob = new Blob(buffers, {type: 'application/binary'});\n",
              "      const a = document.createElement('a');\n",
              "      a.href = window.URL.createObjectURL(blob);\n",
              "      a.download = filename;\n",
              "      div.appendChild(a);\n",
              "      a.click();\n",
              "      div.remove();\n",
              "    }\n",
              "  "
            ]
          },
          "metadata": {}
        },
        {
          "output_type": "display_data",
          "data": {
            "text/plain": [
              "<IPython.core.display.Javascript object>"
            ],
            "application/javascript": [
              "download(\"download_674df7d0-da90-4b5f-9e74-ca76264db3b6\", \"karate_graph_2.html\", 406334)"
            ]
          },
          "metadata": {}
        },
        {
          "output_type": "stream",
          "name": "stderr",
          "text": [
            "[d3graph] INFO> Converting adjacency matrix into source-target..\n",
            "[d3graph] INFO> Number of unique nodes: 34\n",
            "[d3graph] INFO> Slider range is set to [0, 7]\n",
            "[d3graph] INFO> Write to path: [/content/karate_graph_3.html]\n",
            "[d3graph] INFO> File already exists and will be overwritten: [/content/karate_graph_3.html]\n"
          ]
        },
        {
          "output_type": "display_data",
          "data": {
            "text/plain": [
              "<IPython.core.display.Javascript object>"
            ],
            "application/javascript": [
              "\n",
              "    async function download(id, filename, size) {\n",
              "      if (!google.colab.kernel.accessAllowed) {\n",
              "        return;\n",
              "      }\n",
              "      const div = document.createElement('div');\n",
              "      const label = document.createElement('label');\n",
              "      label.textContent = `Downloading \"${filename}\": `;\n",
              "      div.appendChild(label);\n",
              "      const progress = document.createElement('progress');\n",
              "      progress.max = size;\n",
              "      div.appendChild(progress);\n",
              "      document.body.appendChild(div);\n",
              "\n",
              "      const buffers = [];\n",
              "      let downloaded = 0;\n",
              "\n",
              "      const channel = await google.colab.kernel.comms.open(id);\n",
              "      // Send a message to notify the kernel that we're ready.\n",
              "      channel.send({})\n",
              "\n",
              "      for await (const message of channel.messages) {\n",
              "        // Send a message to notify the kernel that we're ready.\n",
              "        channel.send({})\n",
              "        if (message.buffers) {\n",
              "          for (const buffer of message.buffers) {\n",
              "            buffers.push(buffer);\n",
              "            downloaded += buffer.byteLength;\n",
              "            progress.value = downloaded;\n",
              "          }\n",
              "        }\n",
              "      }\n",
              "      const blob = new Blob(buffers, {type: 'application/binary'});\n",
              "      const a = document.createElement('a');\n",
              "      a.href = window.URL.createObjectURL(blob);\n",
              "      a.download = filename;\n",
              "      div.appendChild(a);\n",
              "      a.click();\n",
              "      div.remove();\n",
              "    }\n",
              "  "
            ]
          },
          "metadata": {}
        },
        {
          "output_type": "display_data",
          "data": {
            "text/plain": [
              "<IPython.core.display.Javascript object>"
            ],
            "application/javascript": [
              "download(\"download_528aa016-5449-4ef9-8bea-4abc2bc240b4\", \"karate_graph_3.html\", 406038)"
            ]
          },
          "metadata": {}
        },
        {
          "output_type": "stream",
          "name": "stderr",
          "text": [
            "[d3graph] INFO> Add transparency to RGB colors (last column)\n",
            "[d3graph] INFO> Number of unique nodes: 34\n",
            "[d3graph] INFO> Slider range is set to [0, 7]\n",
            "[d3graph] INFO> Write to path: [/content/karate_graph_4.html]\n",
            "[d3graph] INFO> File already exists and will be overwritten: [/content/karate_graph_4.html]\n"
          ]
        },
        {
          "output_type": "display_data",
          "data": {
            "text/plain": [
              "<IPython.core.display.Javascript object>"
            ],
            "application/javascript": [
              "\n",
              "    async function download(id, filename, size) {\n",
              "      if (!google.colab.kernel.accessAllowed) {\n",
              "        return;\n",
              "      }\n",
              "      const div = document.createElement('div');\n",
              "      const label = document.createElement('label');\n",
              "      label.textContent = `Downloading \"${filename}\": `;\n",
              "      div.appendChild(label);\n",
              "      const progress = document.createElement('progress');\n",
              "      progress.max = size;\n",
              "      div.appendChild(progress);\n",
              "      document.body.appendChild(div);\n",
              "\n",
              "      const buffers = [];\n",
              "      let downloaded = 0;\n",
              "\n",
              "      const channel = await google.colab.kernel.comms.open(id);\n",
              "      // Send a message to notify the kernel that we're ready.\n",
              "      channel.send({})\n",
              "\n",
              "      for await (const message of channel.messages) {\n",
              "        // Send a message to notify the kernel that we're ready.\n",
              "        channel.send({})\n",
              "        if (message.buffers) {\n",
              "          for (const buffer of message.buffers) {\n",
              "            buffers.push(buffer);\n",
              "            downloaded += buffer.byteLength;\n",
              "            progress.value = downloaded;\n",
              "          }\n",
              "        }\n",
              "      }\n",
              "      const blob = new Blob(buffers, {type: 'application/binary'});\n",
              "      const a = document.createElement('a');\n",
              "      a.href = window.URL.createObjectURL(blob);\n",
              "      a.download = filename;\n",
              "      div.appendChild(a);\n",
              "      a.click();\n",
              "      div.remove();\n",
              "    }\n",
              "  "
            ]
          },
          "metadata": {}
        },
        {
          "output_type": "display_data",
          "data": {
            "text/plain": [
              "<IPython.core.display.Javascript object>"
            ],
            "application/javascript": [
              "download(\"download_6196bf27-57b1-4b5d-86a1-d58ea1d9d9e3\", \"karate_graph_4.html\", 406364)"
            ]
          },
          "metadata": {}
        },
        {
          "output_type": "stream",
          "name": "stderr",
          "text": [
            "[d3graph] INFO> Set directed=True to see the markers!\n",
            "[d3graph] INFO> Keep only edges with weight>0\n",
            "[d3graph] INFO> Converting source-target into adjacency matrix..\n",
            "[d3graph] INFO> Making the matrix symmetric..\n",
            "[d3graph] INFO> Add transparency to RGB colors (last column)\n",
            "[d3graph] INFO> Number of unique nodes: 34\n",
            "[d3graph] INFO> Slider range is set to [0, 7]\n",
            "[d3graph] INFO> Write to path: [/content/karate_graph_5.html]\n",
            "[d3graph] INFO> File already exists and will be overwritten: [/content/karate_graph_5.html]\n"
          ]
        },
        {
          "output_type": "display_data",
          "data": {
            "text/plain": [
              "<IPython.core.display.Javascript object>"
            ],
            "application/javascript": [
              "\n",
              "    async function download(id, filename, size) {\n",
              "      if (!google.colab.kernel.accessAllowed) {\n",
              "        return;\n",
              "      }\n",
              "      const div = document.createElement('div');\n",
              "      const label = document.createElement('label');\n",
              "      label.textContent = `Downloading \"${filename}\": `;\n",
              "      div.appendChild(label);\n",
              "      const progress = document.createElement('progress');\n",
              "      progress.max = size;\n",
              "      div.appendChild(progress);\n",
              "      document.body.appendChild(div);\n",
              "\n",
              "      const buffers = [];\n",
              "      let downloaded = 0;\n",
              "\n",
              "      const channel = await google.colab.kernel.comms.open(id);\n",
              "      // Send a message to notify the kernel that we're ready.\n",
              "      channel.send({})\n",
              "\n",
              "      for await (const message of channel.messages) {\n",
              "        // Send a message to notify the kernel that we're ready.\n",
              "        channel.send({})\n",
              "        if (message.buffers) {\n",
              "          for (const buffer of message.buffers) {\n",
              "            buffers.push(buffer);\n",
              "            downloaded += buffer.byteLength;\n",
              "            progress.value = downloaded;\n",
              "          }\n",
              "        }\n",
              "      }\n",
              "      const blob = new Blob(buffers, {type: 'application/binary'});\n",
              "      const a = document.createElement('a');\n",
              "      a.href = window.URL.createObjectURL(blob);\n",
              "      a.download = filename;\n",
              "      div.appendChild(a);\n",
              "      a.click();\n",
              "      div.remove();\n",
              "    }\n",
              "  "
            ]
          },
          "metadata": {}
        },
        {
          "output_type": "display_data",
          "data": {
            "text/plain": [
              "<IPython.core.display.Javascript object>"
            ],
            "application/javascript": [
              "download(\"download_76f31eeb-8fa3-491d-8d14-8420f3186be0\", \"karate_graph_5.html\", 406365)"
            ]
          },
          "metadata": {}
        },
        {
          "output_type": "stream",
          "name": "stderr",
          "text": [
            "[d3graph] INFO> Set directed=True to see the markers!\n",
            "[d3graph] INFO> Keep only edges with weight>0\n",
            "[d3graph] INFO> Converting source-target into adjacency matrix..\n",
            "[d3graph] INFO> Making the matrix symmetric..\n",
            "[d3graph] INFO> Converting adjacency matrix into source-target..\n",
            "[d3graph] INFO> Number of unique nodes: 34\n",
            "[d3graph] INFO> Add transparency to RGB colors (last column)\n",
            "[d3graph] INFO> Number of unique nodes: 34\n",
            "[d3graph] INFO> Slider range is set to [0, 7]\n",
            "[d3graph] INFO> Write to path: [/content/karate_graph_6.html]\n",
            "[d3graph] INFO> File already exists and will be overwritten: [/content/karate_graph_6.html]\n"
          ]
        },
        {
          "output_type": "display_data",
          "data": {
            "text/plain": [
              "<IPython.core.display.Javascript object>"
            ],
            "application/javascript": [
              "\n",
              "    async function download(id, filename, size) {\n",
              "      if (!google.colab.kernel.accessAllowed) {\n",
              "        return;\n",
              "      }\n",
              "      const div = document.createElement('div');\n",
              "      const label = document.createElement('label');\n",
              "      label.textContent = `Downloading \"${filename}\": `;\n",
              "      div.appendChild(label);\n",
              "      const progress = document.createElement('progress');\n",
              "      progress.max = size;\n",
              "      div.appendChild(progress);\n",
              "      document.body.appendChild(div);\n",
              "\n",
              "      const buffers = [];\n",
              "      let downloaded = 0;\n",
              "\n",
              "      const channel = await google.colab.kernel.comms.open(id);\n",
              "      // Send a message to notify the kernel that we're ready.\n",
              "      channel.send({})\n",
              "\n",
              "      for await (const message of channel.messages) {\n",
              "        // Send a message to notify the kernel that we're ready.\n",
              "        channel.send({})\n",
              "        if (message.buffers) {\n",
              "          for (const buffer of message.buffers) {\n",
              "            buffers.push(buffer);\n",
              "            downloaded += buffer.byteLength;\n",
              "            progress.value = downloaded;\n",
              "          }\n",
              "        }\n",
              "      }\n",
              "      const blob = new Blob(buffers, {type: 'application/binary'});\n",
              "      const a = document.createElement('a');\n",
              "      a.href = window.URL.createObjectURL(blob);\n",
              "      a.download = filename;\n",
              "      div.appendChild(a);\n",
              "      a.click();\n",
              "      div.remove();\n",
              "    }\n",
              "  "
            ]
          },
          "metadata": {}
        },
        {
          "output_type": "display_data",
          "data": {
            "text/plain": [
              "<IPython.core.display.Javascript object>"
            ],
            "application/javascript": [
              "download(\"download_8404d43d-1692-4a24-8cdb-0503d0103f4b\", \"karate_graph_6.html\", 406365)"
            ]
          },
          "metadata": {}
        },
        {
          "output_type": "stream",
          "name": "stderr",
          "text": [
            "[d3graph] INFO> Set directed=True to see the markers!\n",
            "[d3graph] INFO> Keep only edges with weight>0\n",
            "[d3graph] INFO> Converting source-target into adjacency matrix..\n",
            "[d3graph] INFO> Making the matrix symmetric..\n",
            "[d3graph] INFO> Converting adjacency matrix into source-target..\n",
            "[d3graph] INFO> Number of unique nodes: 34\n",
            "[d3graph] INFO> Add transparency to RGB colors (last column)\n",
            "[d3graph] INFO> Number of unique nodes: 34\n",
            "[d3graph] INFO> Slider range is set to [0, 7]\n",
            "[d3graph] INFO> Write to path: [/content/karate_graph_7.html]\n",
            "[d3graph] INFO> File already exists and will be overwritten: [/content/karate_graph_7.html]\n"
          ]
        },
        {
          "output_type": "display_data",
          "data": {
            "text/plain": [
              "<IPython.core.display.Javascript object>"
            ],
            "application/javascript": [
              "\n",
              "    async function download(id, filename, size) {\n",
              "      if (!google.colab.kernel.accessAllowed) {\n",
              "        return;\n",
              "      }\n",
              "      const div = document.createElement('div');\n",
              "      const label = document.createElement('label');\n",
              "      label.textContent = `Downloading \"${filename}\": `;\n",
              "      div.appendChild(label);\n",
              "      const progress = document.createElement('progress');\n",
              "      progress.max = size;\n",
              "      div.appendChild(progress);\n",
              "      document.body.appendChild(div);\n",
              "\n",
              "      const buffers = [];\n",
              "      let downloaded = 0;\n",
              "\n",
              "      const channel = await google.colab.kernel.comms.open(id);\n",
              "      // Send a message to notify the kernel that we're ready.\n",
              "      channel.send({})\n",
              "\n",
              "      for await (const message of channel.messages) {\n",
              "        // Send a message to notify the kernel that we're ready.\n",
              "        channel.send({})\n",
              "        if (message.buffers) {\n",
              "          for (const buffer of message.buffers) {\n",
              "            buffers.push(buffer);\n",
              "            downloaded += buffer.byteLength;\n",
              "            progress.value = downloaded;\n",
              "          }\n",
              "        }\n",
              "      }\n",
              "      const blob = new Blob(buffers, {type: 'application/binary'});\n",
              "      const a = document.createElement('a');\n",
              "      a.href = window.URL.createObjectURL(blob);\n",
              "      a.download = filename;\n",
              "      div.appendChild(a);\n",
              "      a.click();\n",
              "      div.remove();\n",
              "    }\n",
              "  "
            ]
          },
          "metadata": {}
        },
        {
          "output_type": "display_data",
          "data": {
            "text/plain": [
              "<IPython.core.display.Javascript object>"
            ],
            "application/javascript": [
              "download(\"download_df9a2247-6a5d-4b1f-9d0c-e53e5fa84282\", \"karate_graph_7.html\", 406519)"
            ]
          },
          "metadata": {}
        },
        {
          "output_type": "stream",
          "name": "stderr",
          "text": [
            "[d3graph] INFO> Set directed=True to see the markers!\n",
            "[d3graph] INFO> Keep only edges with weight>0\n",
            "[d3graph] INFO> Converting source-target into adjacency matrix..\n",
            "[d3graph] INFO> Making the matrix symmetric..\n",
            "[d3graph] INFO> Converting adjacency matrix into source-target..\n",
            "[d3graph] INFO> Number of unique nodes: 34\n",
            "[d3graph] INFO> Add transparency to RGB colors (last column)\n",
            "[d3graph] INFO> Number of unique nodes: 34\n",
            "[d3graph] INFO> Slider range is set to [0, 7]\n",
            "[d3graph] INFO> Write to path: [/content/karate_graph_8.html]\n",
            "[d3graph] INFO> File already exists and will be overwritten: [/content/karate_graph_8.html]\n"
          ]
        },
        {
          "output_type": "display_data",
          "data": {
            "text/plain": [
              "<IPython.core.display.Javascript object>"
            ],
            "application/javascript": [
              "\n",
              "    async function download(id, filename, size) {\n",
              "      if (!google.colab.kernel.accessAllowed) {\n",
              "        return;\n",
              "      }\n",
              "      const div = document.createElement('div');\n",
              "      const label = document.createElement('label');\n",
              "      label.textContent = `Downloading \"${filename}\": `;\n",
              "      div.appendChild(label);\n",
              "      const progress = document.createElement('progress');\n",
              "      progress.max = size;\n",
              "      div.appendChild(progress);\n",
              "      document.body.appendChild(div);\n",
              "\n",
              "      const buffers = [];\n",
              "      let downloaded = 0;\n",
              "\n",
              "      const channel = await google.colab.kernel.comms.open(id);\n",
              "      // Send a message to notify the kernel that we're ready.\n",
              "      channel.send({})\n",
              "\n",
              "      for await (const message of channel.messages) {\n",
              "        // Send a message to notify the kernel that we're ready.\n",
              "        channel.send({})\n",
              "        if (message.buffers) {\n",
              "          for (const buffer of message.buffers) {\n",
              "            buffers.push(buffer);\n",
              "            downloaded += buffer.byteLength;\n",
              "            progress.value = downloaded;\n",
              "          }\n",
              "        }\n",
              "      }\n",
              "      const blob = new Blob(buffers, {type: 'application/binary'});\n",
              "      const a = document.createElement('a');\n",
              "      a.href = window.URL.createObjectURL(blob);\n",
              "      a.download = filename;\n",
              "      div.appendChild(a);\n",
              "      a.click();\n",
              "      div.remove();\n",
              "    }\n",
              "  "
            ]
          },
          "metadata": {}
        },
        {
          "output_type": "display_data",
          "data": {
            "text/plain": [
              "<IPython.core.display.Javascript object>"
            ],
            "application/javascript": [
              "download(\"download_41548004-bd3c-4e5a-85ba-791fc756f6a0\", \"karate_graph_8.html\", 406519)"
            ]
          },
          "metadata": {}
        }
      ]
    },
    {
      "cell_type": "code",
      "source": [
        "from d3graph import d3graph\n",
        "import pandas as pd\n",
        "import numpy as np\n",
        "\n",
        "# Initialize\n",
        "d3 = d3graph()\n",
        "\n",
        "# Load karate example\n",
        "adjmat, df = d3.import_example('karate')\n",
        "\n",
        "# Example settings\n",
        "label = df['label'].values\n",
        "node_size = df['degree'].values * 10  # scaled for visibility\n",
        "\n",
        "# Configure and display the graph\n",
        "d3.graph(adjmat)\n",
        "d3.set_node_properties(label=label, color=label, size=node_size, cmap='Set1')\n",
        "d3.show()\n",
        "\n",
        "# Assuming the code above is run in a Jupyter notebook cell\n"
      ],
      "metadata": {
        "colab": {
          "base_uri": "https://localhost:8080/"
        },
        "id": "bjmR4o9esOE6",
        "outputId": "687d51ee-669b-4871-cd1c-5da533155dc8"
      },
      "execution_count": null,
      "outputs": [
        {
          "output_type": "stream",
          "name": "stderr",
          "text": [
            "[d3graph] INFO> Set directed=True to see the markers!\n",
            "[d3graph] INFO> Keep only edges with weight>0\n",
            "[d3graph] INFO> Converting source-target into adjacency matrix..\n",
            "[d3graph] INFO> Making the matrix symmetric..\n",
            "[d3graph] INFO> Converting adjacency matrix into source-target..\n",
            "[d3graph] INFO> Number of unique nodes: 34\n",
            "[d3graph] INFO> Add transparency to RGB colors (last column)\n",
            "[d3graph] INFO> Number of unique nodes: 34\n",
            "[d3graph] INFO> Slider range is set to [0, 7]\n",
            "[d3graph] INFO> Write to path: [/tmp/tmp2969ut78/d3graph.html]\n",
            "[d3graph] INFO> File already exists and will be overwritten: [/tmp/tmp2969ut78/d3graph.html]\n"
          ]
        }
      ]
    }
  ]
}